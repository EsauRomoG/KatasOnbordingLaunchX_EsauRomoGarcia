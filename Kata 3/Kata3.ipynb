{
 "cells": [
  {
   "cell_type": "markdown",
   "metadata": {},
   "source": [
    "# Ejercicio 1: Escribir declaraciones if, else, y elif\n",
    "\n",
    "Para este ejercicio, escribirás una lógica condicional que imprima una advertencia si un asteroide se acerca a la Tierra demasiado rápido. La velocidad del asteroide varía dependiendo de lo cerca que esté del sol, y cualquier velocidad superior a 25 kilómetros por segundo (km/s) merece una advertencia.\n",
    "\n",
    "Un asteroide se acerca, y viaja a una velocidad de 49 km/s."
   ]
  },
  {
   "cell_type": "code",
   "execution_count": null,
   "metadata": {},
   "outputs": [],
   "source": [
    "velocidadAsteroide = 49\n",
    "\n",
    "if velocidadAsteroide > 25:\n",
    "    print('¡Advertenicia! Un asteroide se acerca y viaja a velocidad de', velocidadAsteroide, \"km/s\")\n",
    "    \n",
    "else:\n",
    "    print('¡Todo bien! El cielo está despejado')"
   ]
  },
  {
   "cell_type": "markdown",
   "metadata": {},
   "source": [
    "# Ejercicio 2: Uso de if, else, elif\n",
    "\n",
    "Si un asteroide entra en la atmósfera de la Tierra a una velocidad mayor o igual a 20 km/s, a veces produce un rayo de luz que se puede ver desde la Tierra. Escribe la lógica condicional que usa declaraciones if, else, y elif para alertar a las personas de todo el mundo que deben buscar un asteroide en el cielo. ¡Hay uno que se dirige a la tierra ahora a una velocidad de 19 km/s!"
   ]
  },
  {
   "cell_type": "code",
   "execution_count": null,
   "metadata": {},
   "outputs": [],
   "source": [
    "velocidadAsteroide = 19\n",
    "\n",
    "if velocidadAsteroide > 20:\n",
    "    print('¡¡Mira al cielo! Un asteroide inofensivo está entrando a la atmosfera')\n",
    "\n",
    "elif velocidadAsteroide == 20:\n",
    "    print('!¡Mira al cielo! Un asteroide inofensivo está entrando a la atmosfera')\n",
    "    \n",
    "else:\n",
    "    print('¡Todo bien! El cielo está despejado')"
   ]
  },
  {
   "cell_type": "markdown",
   "metadata": {},
   "source": [
    "# Ejercicio 3: Uso de operadores and y or\n",
    "En este ejercicio, aprenderás información más matizada sobre cuándo los asteroides representan un peligro para la Tierra, y utilizarás esa información para mejorar nuestro sistema de advertencia. Aquí está la nueva información que necesitas saber:\n",
    "\n",
    "* Los asteroides de menos de 25 metros en su dimensión más grande probablemente se quemarán a medida que entren en la atmósfera de la Tierra.\n",
    "\n",
    "* Si una pieza de un asteroide que es más grande que 25 metros pero más pequeña que 1000 metros golpeara la Tierra, causaría mucho daño.\n",
    "\n",
    "También discutimos en el ejercicio anterior que:\n",
    "\n",
    "* La velocidad del asteroide varía en función de lo cerca que esté del sol, y cualquier velocidad superior a 25 kilómetros por segundo (km/s) merece una advertencia.\n",
    "\n",
    "* Si un asteroide entra en la atmósfera de la Tierra a una velocidad mayor o igual a 20 km/s, a veces produce un rayo de luz que se puede ver desde la Tierra.\n",
    "    \n",
    "Usando toda esta información, escribe un programa que emita la advertencia o información correcta a la gente de la Tierra, según la velocidad y el tamaño de un asteroide. Utiliza instrucciones if, else, y elif, así como los operadores and y or."
   ]
  },
  {
   "cell_type": "code",
   "execution_count": null,
   "metadata": {},
   "outputs": [],
   "source": [
    "velocidadAsteroide = 26\n",
    "diametroAterioide = 10\n",
    "\n",
    "if velocidadAsteroide > 25 and (diametroAterioide > 25 and diametroAterioide < 1000):\n",
    "    print('¡Advertencia! Un asteroide potencialmente peligroso se acerca a la tierra')\n",
    "\n",
    "elif velocidadAsteroide > 25 or (diametroAterioide > 25 and diametroAterioide <1000):\n",
    "    print('¡Advertenicia! Un asteroide se acerca a la tierra y viaja a velocidad de', velocidadAsteroide, 'km/s con un diámetro de', diametroAterioide, 'metros')\n",
    "\n",
    "elif velocidadAsteroide >= 20 or diametroAterioide < 25:\n",
    "    print('¡Mira al cielo! Un asteroide inofensivo está entrando a la atmosfera')\n",
    "\n",
    "else:\n",
    "    print('¡Todo bien! El cielo está despejado')\n",
    "    \n",
    "\n"
   ]
  },
  {
   "cell_type": "markdown",
   "metadata": {},
   "source": [
    "* Kata realizada por: Esaú Romo García\n",
    "* GitHub: EsauRomoG\n",
    "* Corre de Teams: launchx04410@innovaccion.mx"
   ]
  }
 ],
 "metadata": {
  "interpreter": {
   "hash": "f3f8fe2f53e084f980e8ea6a3a0d27b9e9d2f141d800ba214c76523d7b9b9b43"
  },
  "kernelspec": {
   "display_name": "Python 3.10.1 64-bit",
   "language": "python",
   "name": "python3"
  },
  "language_info": {
   "codemirror_mode": {
    "name": "ipython",
    "version": 3
   },
   "file_extension": ".py",
   "mimetype": "text/x-python",
   "name": "python",
   "nbconvert_exporter": "python",
   "pygments_lexer": "ipython3",
   "version": "3.10.1"
  },
  "orig_nbformat": 4
 },
 "nbformat": 4,
 "nbformat_minor": 2
}
