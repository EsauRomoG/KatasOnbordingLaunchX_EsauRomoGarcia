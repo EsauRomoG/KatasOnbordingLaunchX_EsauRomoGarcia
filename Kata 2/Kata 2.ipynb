{
 "cells": [
  {
   "cell_type": "markdown",
   "metadata": {},
   "source": [
    "# Ejercicio - Crear un paquete\n",
    "\n",
    "En este ejercicio, aprenderás a utilizar entornos virtuales como una forma para no afectar a los paquetes instalados globalmente u otros programas que se ejecutan en tu máquina.\n",
    "\n",
    "Para este ejercicio es necesario que lo ejecutes desde la terminal, línea de comandos, cmd, consola, cli, etc. de tu computadora, sé que es desafíante, pero no te preocupes ¡¡Sé que puedes lograrlo!!\n",
    "\n",
    "## Crear un entorno virtual\n",
    "Crea un entorno virtual mediante venv\n",
    "\n",
    "Ejecutar en su terminal: python3 -m venv env o bien python -m venv env"
   ]
  },
  {
   "cell_type": "markdown",
   "metadata": {},
   "source": [
    "* Ahora tienes un directorio (folder) env creado en tu terminal.\n",
    "\n",
    "<img src = "imagenes/1.png\">"
   ]
  },
  {
   "cell_type": "markdown",
   "metadata": {},
   "source": [
    "* Ejecuta el comando para activar el entorno virtual: source env/scripts/activate\n",
    "\n",
    "<img src = \"imagenes/2.png\">\n"
   ]
  },
  {
   "cell_type": "markdown",
   "metadata": {},
   "source": [
    "## Instalar una biblioteca\n",
    "\n",
    "Ahora que estás dentro de tu entorno virtual, puedes instalar una biblioteca y saber que la biblioteca solo existirá en el entorno virtual.\n",
    "\n",
    "* Ejecuta el comando pip freeze para ver las bibliotecas instaladas en tu entorno:\n",
    "\n",
    "<img src = \"imagenes/3.png\">\n",
    "\n"
   ]
  },
  {
   "cell_type": "markdown",
   "metadata": {},
   "source": [
    "No deberías obtener respuesta. A continuación, veamos cómo cambia la salida de pip freeze cuando se agrega una biblioteca (un paquete).\n",
    "\n",
    "* Ejecuta el comando pip install para instalar una biblioteca:\n",
    "\n",
    "pip install python-dateutil\n",
    "\n",
    "* Un gran mensaje de salida de texto dice que está instalando tu biblioteca, y debe terminar con la siguiente oración:\n",
    "\n",
    "\n",
    "<img src = \"imagenes/4.png\">"
   ]
  },
  {
   "cell_type": "markdown",
   "metadata": {},
   "source": [
    "* Vuelve a ejecutar pip freeze para ver cómo ha cambiado tu lista de bibliotecas:\n",
    "\n",
    "Ahora deberías ver la siguiente lista:\n",
    "\n",
    "python-dateutil==2.8.2\n",
    "six==1.16.\n",
    "\n",
    "<img src = \"imagenes/5.png\">"
   ]
  },
  {
   "cell_type": "markdown",
   "metadata": {},
   "source": [
    "## Desactivar un entorno virtual\n",
    "\n",
    "Hasta ahora, has creado un entorno virtual y le has agregado un paquete. Sin embargo, es posible que estés trabajando en varios proyectos de Python y necesites cambiar entre ellos. Para hacer eso, debes salir (desactivar) tu entorno virtual.\n",
    "\n",
    "Ejecuta el comando deactivate:\n",
    "\n",
    "<img src = \"imagenes/6.png\">\n",
    "\n",
    "Observa cómo cambia el mensaje de tu terminal (env) a cómo se veía antes.\n",
    "\n",
    "¡Felicidades! Has logrado crear y usar correctamente un entorno virtual."
   ]
  },
  {
   "cell_type": "markdown",
   "metadata": {},
   "source": [
    "* Kata realizada por: Esaú Romo García\n",
    "* GitHub: EsauRomoG\n",
    "* Corre de Teams: launchx04410@innovaccion.mx"
   ]
  }
 ],
 "metadata": {
  "language_info": {
   "name": "python"
  },
  "orig_nbformat": 4
 },
 "nbformat": 4,
 "nbformat_minor": 2
}
