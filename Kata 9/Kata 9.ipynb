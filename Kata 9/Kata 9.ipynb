{
 "cells": [
  {
   "cell_type": "markdown",
   "metadata": {},
   "source": [
    "# Ejercicio: Uso de funciones en Python\n",
    "\n",
    "## Ejercicio 1: Trabajar con argumentos en funciones\n",
    "\n",
    "Los argumentos requeridos en las funciones se utilizan cuando las funciones necesitan que esos argumentos funcionen correctamente. En este ejercicio, construirás un informe de combustible que requiere información de varias ubicaciones de combustible en todo el cohete.\n",
    "\n",
    "Comienza por crear una función que necesite tres lecturas de combustible y devuelva un informe:"
   ]
  },
  {
   "cell_type": "code",
   "execution_count": null,
   "metadata": {},
   "outputs": [],
   "source": [
    "# Función para leer 3 tanques de combustible y muestre el promedio\n",
    "\n",
    "def leerTanques(tanque1, tanque2, tanque3):\n",
    "    promedio = (tanque1 + tanque2 + tanque3) / 3\n",
    "    return (f\"El promedio de combustible de los tres tanque es {promedio}\")"
   ]
  },
  {
   "cell_type": "markdown",
   "metadata": {},
   "source": [
    "Ahora que hemos definido la función de informes, vamos a comprobarlo. Para esta misión, los tanques no están llenos:"
   ]
  },
  {
   "cell_type": "code",
   "execution_count": null,
   "metadata": {},
   "outputs": [],
   "source": [
    "# Llamamos a la función que genera el reporte print(funcion(tanque1, tanque2, tanque3))\n",
    "\n",
    "print(leerTanques(0,0,0))"
   ]
  },
  {
   "cell_type": "markdown",
   "metadata": {},
   "source": [
    "En lugar de simplemente crear el informe, la función también está calculando el promedio. Mejora la legibilidad extrayendo el cálculo promedio de la función en una nueva función para que el promedio se pueda hacer de forma independiente:"
   ]
  },
  {
   "cell_type": "code",
   "execution_count": null,
   "metadata": {},
   "outputs": [],
   "source": [
    "# Función promedio \n",
    "\n",
    "def promedioCombustible (combustible):\n",
    "    totalCombustible = sum(combustible)\n",
    "    return (totalCombustible/(len(combustible)))"
   ]
  },
  {
   "cell_type": "markdown",
   "metadata": {},
   "source": [
    "Ahora actualiza la función de informes para llamando a la nueva función del promedio:"
   ]
  },
  {
   "cell_type": "code",
   "execution_count": null,
   "metadata": {},
   "outputs": [],
   "source": [
    "# Actualiza la funció\n",
    "\n",
    "def leerTanques(tanque1, tanque2, tanque3):\n",
    "        return (f\"El promedio de combustible de los tres tanque es {promedioCombustible([tanque1,tanque2,tanque3])}\")\n",
    "\n",
    "print(leerTanques(594,345,0))\n",
    "    \n"
   ]
  },
  {
   "cell_type": "markdown",
   "metadata": {},
   "source": [
    "# Ejercicio 2: Trabajo con argumentos de palabra clave\n",
    "\n",
    "## Ejercicio : Trabajar con argumentos de palabras clave en funciones\n",
    "\n",
    "En este ejercicio, construirás un informe de cohete que requiere varias piezas de información, como el tiempo hasta el destino, el combustible a la izquierda y el nombre del destino. Comienza por crear una función que creará un informe preciso de la misión:"
   ]
  },
  {
   "cell_type": "code",
   "execution_count": null,
   "metadata": {},
   "outputs": [],
   "source": [
    "# Función con un informe preciso de la misión. Considera hora de prelanzamiento, tiempo de vuelo, destino, tanque externo y tanque interno\n",
    "\n",
    "def informeMision(horaPrelanzamiento, tiempoVuelo, destino, tanqueExterno, taqnueInterno):\n",
    "    return(f'''El informe actual de la misión es:\n",
    "    Hora de prelanzamiento : {horaPrelanzamiento}\n",
    "    Tiempo de vuelo estimado: {tiempoVuelo} horas\n",
    "    Destino: {destino}\n",
    "    Combustible en el tanque externo {tanqueExterno}\n",
    "    Combustible en el tanque interno {taqnueInterno}''')\n",
    "\n",
    "print(informeMision('10:32', 39, 'Marte', 233, 454))"
   ]
  },
  {
   "cell_type": "markdown",
   "metadata": {},
   "source": [
    "La función es problemática porque no se puede adaptar para minutos adicionales o tanques adicionales de combustible. Hazlo más flexible permitiendo cualquier número de pasos basados en el tiempo y cualquier número de tanques. En lugar de usar *args y **kwargs, aprovecha el hecho de que puedes usar cualquier nombre que desees. Asegurate que la función sea más legible mediante el uso de nombres de variables que están asociados con las entradas, como *minutes y **fuel_reservoirs:"
   ]
  },
  {
   "cell_type": "code",
   "execution_count": null,
   "metadata": {},
   "outputs": [],
   "source": [
    "# Escribe tu nueva función de reporte considerando lo anterior\n",
    "def informeMision(horaPrelanzamiento, tiempoVuelo, destino, *minutosExtra, **tanquesAdicionales):\n",
    "    return(f'''El informe actual de la misión es:\n",
    "    Hora de prelanzamiento : {horaPrelanzamiento}\n",
    "    Tiempo de vuelo estimado: {tiempoVuelo} horas\n",
    "    Destino: {destino}\n",
    "    Minutos adicionales{sum(minutosExtra)}\n",
    "    Combustible en tanques adicionales {tanquesAdicionales}''')\n",
    "\n",
    "print(informeMision('23:33', 3, 'Marte', 34,53,56, tanqueInterno = 192, tanqueExterno = 495))"
   ]
  },
  {
   "cell_type": "markdown",
   "metadata": {},
   "source": [
    "Debido a que el combustible que queda en los tanques es específico de cada tanque, actualiza la función para usar el nombre de cada tanque en el informe:"
   ]
  },
  {
   "cell_type": "code",
   "execution_count": null,
   "metadata": {},
   "outputs": [],
   "source": [
    "def informeMision(horaPrelanzamiento, tiempoVuelo, destino, *minutosExtra, **tanquesAdicionales):\n",
    "    reporte = f'''El informe actual de la misión es:\n",
    "    Hora de prelanzamiento : {horaPrelanzamiento}\n",
    "    Tiempo de vuelo estimado: {tiempoVuelo} horas\n",
    "    Destino: {destino}\n",
    "    Minutos adicionales: {sum(minutosExtra)} \\n'''\n",
    "    \n",
    "    for tanque in tanquesAdicionales.keys():\n",
    "        reporte += f\"    El {tanque} tiene {tanquesAdicionales.get(tanque)} litros de combustible \\n\"\n",
    "    \n",
    "    return reporte\n",
    "\n",
    "print(informeMision('20:20', 40, 'Marte', 2, 2, 2, tanqueIN = 19, tanqueOut = 39))\n",
    "         \n",
    "\n",
    "            "
   ]
  },
  {
   "cell_type": "markdown",
   "metadata": {},
   "source": [
    "* Kata realizada por: Esaú Romo García\n",
    "* GitHub: EsauRomoG\n",
    "* Corre de Teams: launchx04410@innovaccion.mx"
   ]
  }
 ],
 "metadata": {
  "interpreter": {
   "hash": "f3f8fe2f53e084f980e8ea6a3a0d27b9e9d2f141d800ba214c76523d7b9b9b43"
  },
  "kernelspec": {
   "display_name": "Python 3.10.1 64-bit",
   "language": "python",
   "name": "python3"
  },
  "language_info": {
   "codemirror_mode": {
    "name": "ipython",
    "version": 3
   },
   "file_extension": ".py",
   "mimetype": "text/x-python",
   "name": "python",
   "nbconvert_exporter": "python",
   "pygments_lexer": "ipython3",
   "version": "3.10.1"
  },
  "orig_nbformat": 4
 },
 "nbformat": 4,
 "nbformat_minor": 2
}
